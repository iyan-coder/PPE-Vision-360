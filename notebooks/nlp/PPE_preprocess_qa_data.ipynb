{
 "cells": [
  {
   "cell_type": "markdown",
   "id": "642b3791",
   "metadata": {},
   "source": [
    "### Spacy to Generate **osha_qa_cleaned.csv** from **osha_qa_raw.csv**"
   ]
  },
  {
   "cell_type": "code",
   "execution_count": null,
   "id": "49095b40",
   "metadata": {},
   "outputs": [
    {
     "name": "stdout",
     "output_type": "stream",
     "text": [
      "Preprocessing Done! Cleaned CSV saved.\n"
     ]
    }
   ],
   "source": [
    "import pandas as pd\n",
    "from scripts.text_preprocessing import preprocess_text\n",
    "\n",
    "# Load your CSV\n",
    "df = pd.read_csv(r'D:\\PPE-Vision-360\\datasets\\nlp\\osha_qa_raw.csv .csv')\n",
    "\n",
    "# Apply spaCy preprocessing to both question and answer columns\n",
    "df['clean_question'] = df['questions'].apply(preprocess_text)\n",
    "df['clean_answer'] = df['answers'].apply(preprocess_text)\n",
    "\n",
    "# Save the cleaned CSV\n",
    "df.to_csv(r'D:\\PPE-Vision-360\\datasets\\nlp\\osha_qa_cleaned.csv', index=False)\n",
    "\n",
    "print(\"Preprocessing Done! Cleaned CSV saved.\")\n"
   ]
  }
 ],
 "metadata": {
  "kernelspec": {
   "display_name": "Python 3",
   "language": "python",
   "name": "python3"
  },
  "language_info": {
   "codemirror_mode": {
    "name": "ipython",
    "version": 3
   },
   "file_extension": ".py",
   "mimetype": "text/x-python",
   "name": "python",
   "nbconvert_exporter": "python",
   "pygments_lexer": "ipython3",
   "version": "3.10.0"
  }
 },
 "nbformat": 4,
 "nbformat_minor": 5
}
